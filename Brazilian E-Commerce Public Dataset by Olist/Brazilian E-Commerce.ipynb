{
 "cells": [
  {
   "cell_type": "markdown",
   "id": "21cc8c15",
   "metadata": {},
   "source": [
    "# Brazilian E-Commerce"
   ]
  },
  {
   "cell_type": "code",
   "execution_count": null,
   "id": "e79ee9bc",
   "metadata": {},
   "outputs": [],
   "source": [
    "# Brazilian E-Commerce"
   ]
  }
 ],
 "metadata": {
  "language_info": {
   "name": "python"
  }
 },
 "nbformat": 4,
 "nbformat_minor": 5
}
